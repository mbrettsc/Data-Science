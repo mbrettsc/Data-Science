{
 "cells": [
  {
   "cell_type": "code",
   "execution_count": 2,
   "id": "3b8801d5-fe8e-444e-bd64-e0b0e2f9345d",
   "metadata": {},
   "outputs": [],
   "source": [
    "import pandas as pd\n",
    "import numpy as np\n",
    "from statsmodels.stats.outliers_influence import variance_inflation_factor\n",
    "from sklearn.preprocessing import StandardScaler"
   ]
  },
  {
   "cell_type": "code",
   "execution_count": 29,
   "id": "13c956cb-5ffd-44f4-bb90-0c165bd4a1c2",
   "metadata": {},
   "outputs": [],
   "source": [
    "df = pd.read_csv('../Train_knight.csv')"
   ]
  },
  {
   "cell_type": "code",
   "execution_count": 30,
   "id": "9add2761-ff98-4165-8b94-2fdfcab3a3a0",
   "metadata": {},
   "outputs": [],
   "source": [
    "def calculate_vif(df):\n",
    "    vif_data = pd.DataFrame()\n",
    "    vif_data[\"Feature\"] = df.columns\n",
    "    vif_data[\"VIF\"] = [variance_inflation_factor(df.values, i) for i in range(df.shape[1])]\n",
    "    vif_data[\"Tolerance\"] = 1 / vif_data[\"VIF\"]\n",
    "    return vif_data"
   ]
  },
  {
   "cell_type": "code",
   "execution_count": 31,
   "id": "08862dd4-30a8-4c66-aa25-e4b18a4fa880",
   "metadata": {},
   "outputs": [],
   "source": [
    "df_numerical = df.drop(columns=['knight'])\n",
    "\n",
    "scaler = StandardScaler()\n",
    "df_scaled = pd.DataFrame(scaler.fit_transform(df_numerical), columns=df_numerical.columns)\n",
    "vif = calculate_vif(df_scaled)"
   ]
  },
  {
   "cell_type": "code",
   "execution_count": 37,
   "id": "fc479e78-b67c-46ee-8291-4bae9b746e11",
   "metadata": {},
   "outputs": [],
   "source": [
    "while vif_data['VIF'].max() > 5:\n",
    "    feature_to_remove = vif_data.loc[vif_data['VIF'].idxmax(), 'Feature']\n",
    "    df_scaled = df_scaled.drop(columns=[feature_to_remove])\n",
    "    vif_data = calculate_vif(df_scaled)"
   ]
  },
  {
   "cell_type": "code",
   "execution_count": 38,
   "id": "6aa12bc4-3dcd-40bb-a93e-10eaa97b7341",
   "metadata": {},
   "outputs": [
    {
     "name": "stdout",
     "output_type": "stream",
     "text": [
      "\n",
      "Final VIF for features (VIF <= 5):\n",
      "          Feature       VIF  Tolerance\n",
      "0        Hability  1.601501   0.624414\n",
      "1         Agility  2.639892   0.378803\n",
      "2      Reactivity  2.859199   0.349748\n",
      "3   Midi-chlorien  3.804687   0.262834\n",
      "4            Push  1.882171   0.531301\n",
      "5      Lightsaber  1.604452   0.623266\n",
      "6        Survival  1.663144   0.601271\n",
      "7         Repulse  4.982870   0.200688\n",
      "8      Friendship  3.834010   0.260824\n",
      "9        Blocking  4.389058   0.227839\n",
      "10     Deflection  1.953578   0.511881\n",
      "11           Mass  4.673683   0.213964\n",
      "12          Burst  3.112580   0.321277\n",
      "\n",
      "Remaining features with VIF <= 5:\n",
      "Index(['Hability', 'Agility', 'Reactivity', 'Midi-chlorien', 'Push',\n",
      "       'Lightsaber', 'Survival', 'Repulse', 'Friendship', 'Blocking',\n",
      "       'Deflection', 'Mass', 'Burst'],\n",
      "      dtype='object')\n"
     ]
    }
   ],
   "source": [
    "print(\"\\nFinal VIF for features (VIF <= 5):\")\n",
    "print(vif_data)\n",
    "remaining_features = df_scaled.columns\n",
    "print(\"\\nRemaining features with VIF <= 5:\")\n",
    "print(remaining_features)"
   ]
  }
 ],
 "metadata": {
  "kernelspec": {
   "display_name": "Python (myenv)",
   "language": "python",
   "name": "myenv"
  },
  "language_info": {
   "codemirror_mode": {
    "name": "ipython",
    "version": 3
   },
   "file_extension": ".py",
   "mimetype": "text/x-python",
   "name": "python",
   "nbconvert_exporter": "python",
   "pygments_lexer": "ipython3",
   "version": "3.12.6"
  }
 },
 "nbformat": 4,
 "nbformat_minor": 5
}
