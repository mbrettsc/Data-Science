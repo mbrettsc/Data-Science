{
 "cells": [
  {
   "cell_type": "code",
   "execution_count": 64,
   "id": "d7d12bb6-1146-4882-ba67-a05d42c3f07c",
   "metadata": {},
   "outputs": [],
   "source": [
    "import pandas as pd\n",
    "df = pd.read_csv('/Users/mbrettsc/code/data-science/datascience-3/Train_knight.csv')"
   ]
  },
  {
   "cell_type": "code",
   "execution_count": 65,
   "id": "8347b301-f519-415b-b10a-f58060bac8be",
   "metadata": {
    "scrolled": true
   },
   "outputs": [
    {
     "name": "stdout",
     "output_type": "stream",
     "text": [
      "knight           1.000000\n",
      "Empowered        0.793652\n",
      "Prescience       0.790066\n",
      "Stims            0.786797\n",
      "Recovery         0.777633\n",
      "Sprint           0.739672\n",
      "Strength         0.737403\n",
      "Sensitivity      0.721566\n",
      "Power            0.700709\n",
      "Awareness        0.699662\n",
      "Attunement       0.648893\n",
      "Dexterity        0.631987\n",
      "Delay            0.598072\n",
      "Slash            0.550663\n",
      "Pull             0.537800\n",
      "Lightsaber       0.515340\n",
      "Evade            0.465605\n",
      "Hability         0.446632\n",
      "Burst            0.445847\n",
      "Combo            0.445223\n",
      "Blocking         0.421950\n",
      "Agility          0.397458\n",
      "Reactivity       0.375103\n",
      "Grasping         0.350105\n",
      "Repulse          0.324399\n",
      "Friendship       0.236633\n",
      "Mass             0.113185\n",
      "Midi-chlorien    0.008132\n",
      "Push            -0.019446\n",
      "Deflection      -0.026489\n",
      "Survival        -0.043099\n",
      "dtype: float64\n"
     ]
    }
   ],
   "source": [
    "df['knight'] = df['knight'].apply(lambda x: 1 if x == 'Jedi' else 0)\n",
    "\n",
    "correlation_with_knight = df.corrwith(df['knight'])\n",
    "correlation_with_knight_sorted = correlation_with_knight.sort_values(ascending=False)\n",
    "\n",
    "print(correlation_with_knight_sorted)"
   ]
  }
 ],
 "metadata": {
  "kernelspec": {
   "display_name": "Python (myenv)",
   "language": "python",
   "name": "myenv"
  },
  "language_info": {
   "codemirror_mode": {
    "name": "ipython",
    "version": 3
   },
   "file_extension": ".py",
   "mimetype": "text/x-python",
   "name": "python",
   "nbconvert_exporter": "python",
   "pygments_lexer": "ipython3",
   "version": "3.12.6"
  }
 },
 "nbformat": 4,
 "nbformat_minor": 5
}
